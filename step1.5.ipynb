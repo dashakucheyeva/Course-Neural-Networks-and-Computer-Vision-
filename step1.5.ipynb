{
  "nbformat": 4,
  "nbformat_minor": 0,
  "metadata": {
    "colab": {
      "provenance": [],
      "authorship_tag": "ABX9TyOXTnvyBmu/Duc/skSN+SpJ"
    },
    "kernelspec": {
      "name": "python3",
      "display_name": "Python 3"
    },
    "language_info": {
      "name": "python"
    }
  },
  "cells": [
    {
      "cell_type": "code",
      "execution_count": null,
      "metadata": {
        "id": "BkymUTFFjNpR"
      },
      "outputs": [],
      "source": [
        "import torch\n",
        "# torch.zeros([3, 4])\n",
        "# torch.ones([3, 4, 3])\n",
        "x = torch.Tensor([[1, 2, 3, 4], [5, 6, 7, 8], [9, 10, 11, 12]])\n",
        "x.size()\n",
        "x.shape #то же самое, что и size\n",
        "x[1]\n",
        "x[0, 2] #3 элемент в 1 строке\n",
        "x[:, 0] #1 столбец\n",
        "x + 10\n",
        "x**2 #все элементы в квадрате\n",
        "y = torch.Tensor([[12, 11, 10, 9], [8, 7, 6, 5], [4, 3, 2, 1]])\n",
        "x + y\n",
        "x * y\n",
        "x / y\n",
        "x % y #остаток от деления x на y\n",
        "torch.exp(x)\n",
        "torch.log(x)\n",
        "torch.sin(x)\n",
        "x > 3 #логическая операция\n",
        "mask = x > 3\n",
        "x[mask] #остаются только элементы с True/1\n",
        "x[x > 3] #то же самое без лишней переменной mask"
      ]
    },
    {
      "cell_type": "code",
      "source": [
        "#функция, которая возвращает сумму (x.sum()) элементов\n",
        "#тензора X, строго превышающих значение limit, которое\n",
        "#является входным значением алгоритма\n",
        "\n",
        "import torch\n",
        "\n",
        "X = torch.tensor([[1, 2, 3], [4, 5, 6], [7, 8, 9]])\n",
        "limit = int(input())\n",
        "\n",
        "larger_than_limit_sum = (X[X > limit]).sum()\n",
        "\n",
        "print(larger_than_limit_sum)"
      ],
      "metadata": {
        "id": "WZACjDSfkgRo"
      },
      "execution_count": null,
      "outputs": []
    }
  ]
}