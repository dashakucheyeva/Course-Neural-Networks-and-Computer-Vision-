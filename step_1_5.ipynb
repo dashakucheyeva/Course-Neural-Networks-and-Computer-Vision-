{
  "nbformat": 4,
  "nbformat_minor": 0,
  "metadata": {
    "colab": {
      "provenance": [],
      "gpuType": "T4",
      "authorship_tag": "ABX9TyMDRaGkgVGDPoj5OPp7eotx",
      "include_colab_link": true
    },
    "kernelspec": {
      "name": "python3",
      "display_name": "Python 3"
    },
    "language_info": {
      "name": "python"
    },
    "accelerator": "GPU"
  },
  "cells": [
    {
      "cell_type": "markdown",
      "metadata": {
        "id": "view-in-github",
        "colab_type": "text"
      },
      "source": [
        "<a href=\"https://colab.research.google.com/github/dashakucheyeva/Course-Neural-Networks-and-Computer-Vision-/blob/main/step_1_5.ipynb\" target=\"_parent\"><img src=\"https://colab.research.google.com/assets/colab-badge.svg\" alt=\"Open In Colab\"/></a>"
      ]
    },
    {
      "cell_type": "code",
      "execution_count": 2,
      "metadata": {
        "colab": {
          "base_uri": "https://localhost:8080/"
        },
        "id": "BkymUTFFjNpR",
        "outputId": "bc463e84-090a-4c0b-9cd2-f1d0f797fc8d"
      },
      "outputs": [
        {
          "output_type": "stream",
          "name": "stdout",
          "text": [
            "tensor([[999.,   2.,   3.,   4.],\n",
            "        [  5.,   6.,   7.,   8.],\n",
            "        [  9.,  10.,  11.,  12.]])\n",
            "tensor([[999.,   2.,   3.,   4.],\n",
            "        [  5.,   6.,   7.,   8.],\n",
            "        [  9.,  10.,  11.,  12.]])\n",
            "tensor([[ 1.,  2.,  3.,  4.],\n",
            "        [ 5.,  6.,  7.,  8.],\n",
            "        [ 9., 10., 11., 12.]])\n",
            "tensor([[999.,   2.,   3.,   4.],\n",
            "        [  5.,   6.,   7.,   8.],\n",
            "        [  9.,  10.,  11.,  12.]])\n",
            "tensor([[ 1.,  2.,  3.,  4.],\n",
            "        [ 5.,  6.,  7.,  8.],\n",
            "        [ 9., 10., 11., 12.]], dtype=torch.float64)\n",
            "tensor([[ 1,  2,  3,  4],\n",
            "        [ 5,  6,  7,  8],\n",
            "        [ 9, 10, 11, 12]], dtype=torch.int32)\n",
            "tensor([[ 1.,  2.,  3.,  4.],\n",
            "        [ 5.,  6.,  7.,  8.],\n",
            "        [ 9., 10., 11., 12.]])\n"
          ]
        }
      ],
      "source": [
        "import torch\n",
        "# torch.zeros([3, 4])\n",
        "# torch.ones([3, 4, 3]) #3 матрицы из единиц размерности [3, 4]\n",
        "\n",
        "x = torch.Tensor([[1, 2, 3, 4], [5, 6, 7, 8], [9, 10, 11, 12]])\n",
        "\n",
        "# x.size()\n",
        "# x.shape #то же самое, что и size\n",
        "# x[1]\n",
        "# x[0, 2] #3 элемент в 1 строке\n",
        "# x[:, 0] #1 столбец\n",
        "# x + 10\n",
        "# x**2 #все элементы в квадрате\n",
        "\n",
        "y = torch.Tensor([[12, 11, 10, 9], [8, 7, 6, 5], [4, 3, 2, 1]])\n",
        "\n",
        "# x + y\n",
        "# x * y\n",
        "# x / y\n",
        "# x % y #остаток от деления x на y\n",
        "# torch.exp(x)\n",
        "# torch.log(x)\n",
        "# torch.sin(x)\n",
        "# x > 3 #логическая операция\n",
        "# mask = x > 3\n",
        "# x[mask] #остаются только элементы с True/1\n",
        "# x[x > 3] #то же самое без лишней переменной mask\n",
        "\n",
        "y = x #это не копирование. На объект x начинает ссылаться и y\n",
        "y[0, 0] = 999\n",
        "print(x)\n",
        "print(y)\n",
        "\n",
        "x = torch.Tensor([[1, 2, 3, 4], [5, 6, 7, 8], [9, 10, 11, 12]])\n",
        "\n",
        "y = x.clone() #копирование\n",
        "y[0, 0] = 999\n",
        "print(x)\n",
        "print(y)\n",
        "\n",
        "x.dtype #узнать тип данных тензора\n",
        "\n",
        "x = x.double()\n",
        "print(x)\n",
        "x = x.int()\n",
        "print(x)\n",
        "x = x.float()\n",
        "print(x)"
      ]
    },
    {
      "cell_type": "code",
      "source": [
        "#функция, которая возвращает сумму (x.sum()) элементов\n",
        "#тензора X, строго превышающих значение limit, которое\n",
        "#является входным значением алгоритма\n",
        "\n",
        "import torch\n",
        "\n",
        "X = torch.tensor([[1, 2, 3], [4, 5, 6], [7, 8, 9]])\n",
        "limit = int(input())\n",
        "\n",
        "larger_than_limit_sum = (X[X > limit]).sum()\n",
        "\n",
        "print(larger_than_limit_sum)"
      ],
      "metadata": {
        "id": "WZACjDSfkgRo"
      },
      "execution_count": null,
      "outputs": []
    },
    {
      "cell_type": "code",
      "source": [
        "import numpy as np\n",
        "x = np.array([[1, 2, 3, 4], [4, 3, 2, 1]])\n",
        "x\n",
        "x = torch.from_numpy(x) #превращаем numpy array в torch tensor\n",
        "x\n",
        "x = x.numpy() #обратно\n",
        "x\n",
        "x = torch.rand([2000, 3000]) #тензор со случайными числами\n",
        "x\n",
        "\n",
        "torch.cuda.is_available() #проверили, есть ли на машине GPU\n",
        "#переводим на другой девайс\n",
        "torch.device('cuda:0') #0 - индекс видеокарты, если их много\n",
        "\n",
        "torch.device('cpu') #обратно на cpu\n",
        "\n",
        "device = torch.device('cuda:0' if torch.cuda.is_available() else 'cpu')\n",
        "\n",
        "x_cuda = x.to(device)\n",
        "x_cuda\n",
        "\n",
        "%time y = (x - x + x * 10.0) ** 2\n",
        "%time y_cuda = (x_cuda - x_cuda + x_cuda * 10.0) ** 2\n",
        "#ускорение вычислений на GPU происходит только на довольно больших тензорах\n",
        "#т.е. в случае [2, 3] GPU может работать медленнее,\n",
        "#но в случае [2000, 3000] получаем профит в десятки раз"
      ],
      "metadata": {
        "colab": {
          "base_uri": "https://localhost:8080/"
        },
        "id": "raTtP0KUz29T",
        "outputId": "1dc6b8c2-b4b2-40b5-feb3-b4e7f35a5970"
      },
      "execution_count": 13,
      "outputs": [
        {
          "output_type": "stream",
          "name": "stdout",
          "text": [
            "CPU times: user 14.3 ms, sys: 46.8 ms, total: 61.1 ms\n",
            "Wall time: 61.5 ms\n",
            "CPU times: user 1.31 ms, sys: 943 µs, total: 2.25 ms\n",
            "Wall time: 1.74 ms\n"
          ]
        }
      ]
    }
  ]
}